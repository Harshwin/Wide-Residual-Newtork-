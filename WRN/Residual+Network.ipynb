{
 "cells": [
  {
   "cell_type": "code",
   "execution_count": 1,
   "metadata": {},
   "outputs": [
    {
     "name": "stdout",
     "output_type": "stream",
     "text": [
      "x_train shape: (50000, 32, 32, 3)\n",
      "50000 train samples\n"
     ]
    }
   ],
   "source": [
    "import lib\n",
    "\n",
    "cifar100 = lib.load_data()"
   ]
  },
  {
   "cell_type": "markdown",
   "metadata": {},
   "source": [
    "# Residual Network"
   ]
  },
  {
   "cell_type": "code",
   "execution_count": 1,
   "metadata": {},
   "outputs": [
    {
     "name": "stderr",
     "output_type": "stream",
     "text": [
      "Using TensorFlow backend.\n"
     ]
    }
   ],
   "source": [
    "import numpy as np\n",
    "import tensorflow as tf\n",
    "from keras.datasets import cifar10\n",
    "from keras.layers import Dense, Activation, Flatten, Lambda, Conv2D, AvgPool2D, BatchNormalization, Dropout, merge\n",
    "from keras.engine import Input, Model\n",
    "from keras.optimizers import SGD\n",
    "from keras.callbacks import Callback, LearningRateScheduler, ModelCheckpoint, EarlyStopping\n",
    "from keras.preprocessing.image import ImageDataGenerator\n",
    "from keras.utils import np_utils\n",
    "import keras.backend as K\n",
    "from keras.models import load_model\n",
    "import json\n",
    "import time\n",
    "from keras_tqdm import TQDMNotebookCallback"
   ]
  },
  {
   "cell_type": "code",
   "execution_count": 21,
   "metadata": {},
   "outputs": [],
   "source": [
    "from keras.models import Sequential\n",
    "from keras.layers import Dense, Activation\n",
    "\n",
    "model = Sequential()\n",
    "model.add(Conv2D(42, (3, 3), padding='same',\n",
    "                 input_shape=(32, 32, 3)))\n",
    "model.add(Activation('relu'))\n",
    "model.add(Conv2D(4, (3, 3)))"
   ]
  },
  {
   "cell_type": "code",
   "execution_count": 22,
   "metadata": {},
   "outputs": [
    {
     "data": {
      "text/plain": [
       "1516"
      ]
     },
     "execution_count": 22,
     "metadata": {},
     "output_type": "execute_result"
    }
   ],
   "source": [
    "(42*3*3*4)+(4)"
   ]
  },
  {
   "cell_type": "code",
   "execution_count": 23,
   "metadata": {},
   "outputs": [
    {
     "name": "stdout",
     "output_type": "stream",
     "text": [
      "_________________________________________________________________\n",
      "Layer (type)                 Output Shape              Param #   \n",
      "=================================================================\n",
      "conv2d_7 (Conv2D)            (None, 32, 32, 42)        1176      \n",
      "_________________________________________________________________\n",
      "activation_6 (Activation)    (None, 32, 32, 42)        0         \n",
      "_________________________________________________________________\n",
      "conv2d_8 (Conv2D)            (None, 30, 30, 4)         1516      \n",
      "=================================================================\n",
      "Total params: 2,692\n",
      "Trainable params: 2,692\n",
      "Non-trainable params: 0\n",
      "_________________________________________________________________\n"
     ]
    }
   ],
   "source": [
    "model.summary()"
   ]
  },
  {
   "cell_type": "code",
   "execution_count": 3,
   "metadata": {
    "collapsed": true
   },
   "outputs": [],
   "source": [
    "model = load_model('wrn28-10.aug.64.0.70')"
   ]
  },
  {
   "cell_type": "code",
   "execution_count": 8,
   "metadata": {
    "collapsed": true
   },
   "outputs": [],
   "source": [
    "preds = model.predict(cifar100['x_test'].astype('float32')/255)"
   ]
  },
  {
   "cell_type": "code",
   "execution_count": 10,
   "metadata": {
    "collapsed": true
   },
   "outputs": [],
   "source": [
    "predprob = preds\n",
    "preds = np.argsort(predprob, axis=1)"
   ]
  },
  {
   "cell_type": "code",
   "execution_count": null,
   "metadata": {
    "collapsed": true
   },
   "outputs": [],
   "source": [
    "np.argmax(preds)"
   ]
  },
  {
   "cell_type": "code",
   "execution_count": 4,
   "metadata": {
    "collapsed": true
   },
   "outputs": [],
   "source": [
    "def zero_pad_channels(x, pad=0):\n",
    "    \"\"\"\n",
    "    Function for Lambda layer\n",
    "    \"\"\"\n",
    "    pattern = [[0, 0], [0, 0], [0, 0], [pad - pad // 2, pad // 2]]\n",
    "    return tf.pad(x, pattern)\n",
    "\n",
    "\n",
    "def residual_block(x, nb_filters=16, subsample_factor=1):\n",
    "    \n",
    "    prev_nb_channels = K.int_shape(x)[3]\n",
    "\n",
    "    if subsample_factor > 1:\n",
    "        subsample = (subsample_factor, subsample_factor)\n",
    "        # shortcut: subsample + zero-pad channel dim\n",
    "        shortcut = AvgPool2D(pool_size=subsample, data_format='channels_last')(x)\n",
    "    else:\n",
    "        subsample = (1, 1)\n",
    "        # shortcut: identity\n",
    "        shortcut = x\n",
    "        \n",
    "    if nb_filters > prev_nb_channels:\n",
    "        shortcut = Lambda(zero_pad_channels,\n",
    "                          arguments={'pad': nb_filters - prev_nb_channels})(shortcut)\n",
    "\n",
    "    y = BatchNormalization(axis=3)(x)\n",
    "    y = Activation('relu')(y)\n",
    "    y = Conv2D(nb_filters, (3, 3), strides=subsample,\n",
    "                      kernel_initializer='he_normal', padding='same', data_format='channels_last',)(y)\n",
    "    y = BatchNormalization(axis=3)(y)\n",
    "    y = Activation('relu')(y)\n",
    "    y = Dropout(0.5)(y)\n",
    "    y = Conv2D(nb_filters, (3, 3), strides=(1, 1),\n",
    "                      kernel_initializer='he_normal', padding='same', data_format='channels_last')(y)\n",
    "    \n",
    "    out = merge([y, shortcut], mode='sum')\n",
    "\n",
    "    return out"
   ]
  },
  {
   "cell_type": "code",
   "execution_count": 5,
   "metadata": {},
   "outputs": [
    {
     "name": "stderr",
     "output_type": "stream",
     "text": [
      "/home/s6kalra/anaconda3/lib/python3.6/site-packages/ipykernel_launcher.py:36: UserWarning: The `merge` function is deprecated and will be removed after 08/2017. Use instead layers from `keras.layers.merge`, e.g. `add`, `concatenate`, etc.\n",
      "/home/s6kalra/anaconda3/lib/python3.6/site-packages/keras/legacy/layers.py:460: UserWarning: The `Merge` layer is deprecated and will be removed after 08/2017. Use instead layers from `keras.layers.merge`, e.g. `add`, `concatenate`, etc.\n",
      "  name=name)\n"
     ]
    },
    {
     "name": "stdout",
     "output_type": "stream",
     "text": [
      "CPU times: user 3.15 s, sys: 0 ns, total: 3.15 s\n",
      "Wall time: 3.18 s\n"
     ]
    }
   ],
   "source": [
    "%%time\n",
    "\n",
    "img_rows, img_cols = 32, 32\n",
    "img_channels = 3\n",
    "\n",
    "blocks_per_group = 4\n",
    "widening_factor = 10\n",
    "\n",
    "inputs = Input(shape=(img_rows, img_cols, img_channels))\n",
    "\n",
    "x = Conv2D(16, (3, 3), \n",
    "                  kernel_initializer='he_normal', padding='same', data_format='channels_last')(inputs)\n",
    "\n",
    "for i in range(0, blocks_per_group):\n",
    "    nb_filters = 16 * widening_factor\n",
    "    x = residual_block(x, nb_filters=nb_filters, subsample_factor=1)\n",
    "\n",
    "for i in range(0, blocks_per_group):\n",
    "    nb_filters = 32 * widening_factor\n",
    "    if i == 0:\n",
    "        subsample_factor = 2\n",
    "    else:\n",
    "        subsample_factor = 1\n",
    "    x = residual_block(x, nb_filters=nb_filters, subsample_factor=subsample_factor)\n",
    "\n",
    "for i in range(0, blocks_per_group):\n",
    "    nb_filters = 64 * widening_factor\n",
    "    if i == 0:\n",
    "        subsample_factor = 2\n",
    "    else:\n",
    "        subsample_factor = 1\n",
    "    x = residual_block(x, nb_filters=nb_filters, subsample_factor=subsample_factor)\n",
    "\n",
    "x = BatchNormalization(axis=3)(x)\n",
    "x = Activation('relu')(x)\n",
    "x = AvgPool2D(pool_size=(8, 8), strides=None, padding='valid', data_format='channels_last')(x)\n",
    "x = Flatten()(x)\n",
    "\n",
    "predictions = Dense(100, activation='softmax')(x)\n",
    "\n",
    "model = Model(inputs=inputs, outputs=predictions)"
   ]
  },
  {
   "cell_type": "code",
   "execution_count": 6,
   "metadata": {},
   "outputs": [
    {
     "name": "stdout",
     "output_type": "stream",
     "text": [
      "____________________________________________________________________________________________________\n",
      "Layer (type)                     Output Shape          Param #     Connected to                     \n",
      "====================================================================================================\n",
      "input_2 (InputLayer)             (None, 32, 32, 3)     0                                            \n",
      "____________________________________________________________________________________________________\n",
      "conv2d_2 (Conv2D)                (None, 32, 32, 16)    448         input_2[0][0]                    \n",
      "____________________________________________________________________________________________________\n",
      "batch_normalization_1 (BatchNorm (None, 32, 32, 16)    64          conv2d_2[0][0]                   \n",
      "____________________________________________________________________________________________________\n",
      "activation_1 (Activation)        (None, 32, 32, 16)    0           batch_normalization_1[0][0]      \n",
      "____________________________________________________________________________________________________\n",
      "conv2d_3 (Conv2D)                (None, 32, 32, 160)   23200       activation_1[0][0]               \n",
      "____________________________________________________________________________________________________\n",
      "batch_normalization_2 (BatchNorm (None, 32, 32, 160)   640         conv2d_3[0][0]                   \n",
      "____________________________________________________________________________________________________\n",
      "activation_2 (Activation)        (None, 32, 32, 160)   0           batch_normalization_2[0][0]      \n",
      "____________________________________________________________________________________________________\n",
      "dropout_1 (Dropout)              (None, 32, 32, 160)   0           activation_2[0][0]               \n",
      "____________________________________________________________________________________________________\n",
      "conv2d_4 (Conv2D)                (None, 32, 32, 160)   230560      dropout_1[0][0]                  \n",
      "____________________________________________________________________________________________________\n",
      "lambda_1 (Lambda)                (None, 32, 32, 160)   0           conv2d_2[0][0]                   \n",
      "____________________________________________________________________________________________________\n",
      "merge_1 (Merge)                  (None, 32, 32, 160)   0           conv2d_4[0][0]                   \n",
      "                                                                   lambda_1[0][0]                   \n",
      "____________________________________________________________________________________________________\n",
      "batch_normalization_3 (BatchNorm (None, 32, 32, 160)   640         merge_1[0][0]                    \n",
      "____________________________________________________________________________________________________\n",
      "activation_3 (Activation)        (None, 32, 32, 160)   0           batch_normalization_3[0][0]      \n",
      "____________________________________________________________________________________________________\n",
      "conv2d_5 (Conv2D)                (None, 32, 32, 160)   230560      activation_3[0][0]               \n",
      "____________________________________________________________________________________________________\n",
      "batch_normalization_4 (BatchNorm (None, 32, 32, 160)   640         conv2d_5[0][0]                   \n",
      "____________________________________________________________________________________________________\n",
      "activation_4 (Activation)        (None, 32, 32, 160)   0           batch_normalization_4[0][0]      \n",
      "____________________________________________________________________________________________________\n",
      "dropout_2 (Dropout)              (None, 32, 32, 160)   0           activation_4[0][0]               \n",
      "____________________________________________________________________________________________________\n",
      "conv2d_6 (Conv2D)                (None, 32, 32, 160)   230560      dropout_2[0][0]                  \n",
      "____________________________________________________________________________________________________\n",
      "merge_2 (Merge)                  (None, 32, 32, 160)   0           conv2d_6[0][0]                   \n",
      "                                                                   merge_1[0][0]                    \n",
      "____________________________________________________________________________________________________\n",
      "batch_normalization_5 (BatchNorm (None, 32, 32, 160)   640         merge_2[0][0]                    \n",
      "____________________________________________________________________________________________________\n",
      "activation_5 (Activation)        (None, 32, 32, 160)   0           batch_normalization_5[0][0]      \n",
      "____________________________________________________________________________________________________\n",
      "conv2d_7 (Conv2D)                (None, 32, 32, 160)   230560      activation_5[0][0]               \n",
      "____________________________________________________________________________________________________\n",
      "batch_normalization_6 (BatchNorm (None, 32, 32, 160)   640         conv2d_7[0][0]                   \n",
      "____________________________________________________________________________________________________\n",
      "activation_6 (Activation)        (None, 32, 32, 160)   0           batch_normalization_6[0][0]      \n",
      "____________________________________________________________________________________________________\n",
      "dropout_3 (Dropout)              (None, 32, 32, 160)   0           activation_6[0][0]               \n",
      "____________________________________________________________________________________________________\n",
      "conv2d_8 (Conv2D)                (None, 32, 32, 160)   230560      dropout_3[0][0]                  \n",
      "____________________________________________________________________________________________________\n",
      "merge_3 (Merge)                  (None, 32, 32, 160)   0           conv2d_8[0][0]                   \n",
      "                                                                   merge_2[0][0]                    \n",
      "____________________________________________________________________________________________________\n",
      "batch_normalization_7 (BatchNorm (None, 32, 32, 160)   640         merge_3[0][0]                    \n",
      "____________________________________________________________________________________________________\n",
      "activation_7 (Activation)        (None, 32, 32, 160)   0           batch_normalization_7[0][0]      \n",
      "____________________________________________________________________________________________________\n",
      "conv2d_9 (Conv2D)                (None, 32, 32, 160)   230560      activation_7[0][0]               \n",
      "____________________________________________________________________________________________________\n",
      "batch_normalization_8 (BatchNorm (None, 32, 32, 160)   640         conv2d_9[0][0]                   \n",
      "____________________________________________________________________________________________________\n",
      "activation_8 (Activation)        (None, 32, 32, 160)   0           batch_normalization_8[0][0]      \n",
      "____________________________________________________________________________________________________\n",
      "dropout_4 (Dropout)              (None, 32, 32, 160)   0           activation_8[0][0]               \n",
      "____________________________________________________________________________________________________\n",
      "conv2d_10 (Conv2D)               (None, 32, 32, 160)   230560      dropout_4[0][0]                  \n",
      "____________________________________________________________________________________________________\n",
      "merge_4 (Merge)                  (None, 32, 32, 160)   0           conv2d_10[0][0]                  \n",
      "                                                                   merge_3[0][0]                    \n",
      "____________________________________________________________________________________________________\n",
      "batch_normalization_9 (BatchNorm (None, 32, 32, 160)   640         merge_4[0][0]                    \n",
      "____________________________________________________________________________________________________\n",
      "activation_9 (Activation)        (None, 32, 32, 160)   0           batch_normalization_9[0][0]      \n",
      "____________________________________________________________________________________________________\n",
      "conv2d_11 (Conv2D)               (None, 16, 16, 320)   461120      activation_9[0][0]               \n",
      "____________________________________________________________________________________________________\n",
      "batch_normalization_10 (BatchNor (None, 16, 16, 320)   1280        conv2d_11[0][0]                  \n",
      "____________________________________________________________________________________________________\n",
      "activation_10 (Activation)       (None, 16, 16, 320)   0           batch_normalization_10[0][0]     \n",
      "____________________________________________________________________________________________________\n",
      "dropout_5 (Dropout)              (None, 16, 16, 320)   0           activation_10[0][0]              \n",
      "____________________________________________________________________________________________________\n",
      "average_pooling2d_1 (AveragePool (None, 16, 16, 160)   0           merge_4[0][0]                    \n",
      "____________________________________________________________________________________________________\n",
      "conv2d_12 (Conv2D)               (None, 16, 16, 320)   921920      dropout_5[0][0]                  \n",
      "____________________________________________________________________________________________________\n",
      "lambda_2 (Lambda)                (None, 16, 16, 320)   0           average_pooling2d_1[0][0]        \n",
      "____________________________________________________________________________________________________\n",
      "merge_5 (Merge)                  (None, 16, 16, 320)   0           conv2d_12[0][0]                  \n",
      "                                                                   lambda_2[0][0]                   \n",
      "____________________________________________________________________________________________________\n",
      "batch_normalization_11 (BatchNor (None, 16, 16, 320)   1280        merge_5[0][0]                    \n",
      "____________________________________________________________________________________________________\n",
      "activation_11 (Activation)       (None, 16, 16, 320)   0           batch_normalization_11[0][0]     \n",
      "____________________________________________________________________________________________________\n",
      "conv2d_13 (Conv2D)               (None, 16, 16, 320)   921920      activation_11[0][0]              \n",
      "____________________________________________________________________________________________________\n",
      "batch_normalization_12 (BatchNor (None, 16, 16, 320)   1280        conv2d_13[0][0]                  \n",
      "____________________________________________________________________________________________________\n",
      "activation_12 (Activation)       (None, 16, 16, 320)   0           batch_normalization_12[0][0]     \n",
      "____________________________________________________________________________________________________\n",
      "dropout_6 (Dropout)              (None, 16, 16, 320)   0           activation_12[0][0]              \n",
      "____________________________________________________________________________________________________\n",
      "conv2d_14 (Conv2D)               (None, 16, 16, 320)   921920      dropout_6[0][0]                  \n",
      "____________________________________________________________________________________________________\n",
      "merge_6 (Merge)                  (None, 16, 16, 320)   0           conv2d_14[0][0]                  \n",
      "                                                                   merge_5[0][0]                    \n",
      "____________________________________________________________________________________________________\n",
      "batch_normalization_13 (BatchNor (None, 16, 16, 320)   1280        merge_6[0][0]                    \n",
      "____________________________________________________________________________________________________\n",
      "activation_13 (Activation)       (None, 16, 16, 320)   0           batch_normalization_13[0][0]     \n",
      "____________________________________________________________________________________________________\n",
      "conv2d_15 (Conv2D)               (None, 16, 16, 320)   921920      activation_13[0][0]              \n",
      "____________________________________________________________________________________________________\n",
      "batch_normalization_14 (BatchNor (None, 16, 16, 320)   1280        conv2d_15[0][0]                  \n",
      "____________________________________________________________________________________________________\n",
      "activation_14 (Activation)       (None, 16, 16, 320)   0           batch_normalization_14[0][0]     \n",
      "____________________________________________________________________________________________________\n",
      "dropout_7 (Dropout)              (None, 16, 16, 320)   0           activation_14[0][0]              \n",
      "____________________________________________________________________________________________________\n",
      "conv2d_16 (Conv2D)               (None, 16, 16, 320)   921920      dropout_7[0][0]                  \n",
      "____________________________________________________________________________________________________\n",
      "merge_7 (Merge)                  (None, 16, 16, 320)   0           conv2d_16[0][0]                  \n",
      "                                                                   merge_6[0][0]                    \n",
      "____________________________________________________________________________________________________\n",
      "batch_normalization_15 (BatchNor (None, 16, 16, 320)   1280        merge_7[0][0]                    \n",
      "____________________________________________________________________________________________________\n",
      "activation_15 (Activation)       (None, 16, 16, 320)   0           batch_normalization_15[0][0]     \n",
      "____________________________________________________________________________________________________\n",
      "conv2d_17 (Conv2D)               (None, 16, 16, 320)   921920      activation_15[0][0]              \n",
      "____________________________________________________________________________________________________\n",
      "batch_normalization_16 (BatchNor (None, 16, 16, 320)   1280        conv2d_17[0][0]                  \n",
      "____________________________________________________________________________________________________\n",
      "activation_16 (Activation)       (None, 16, 16, 320)   0           batch_normalization_16[0][0]     \n",
      "____________________________________________________________________________________________________\n",
      "dropout_8 (Dropout)              (None, 16, 16, 320)   0           activation_16[0][0]              \n",
      "____________________________________________________________________________________________________\n",
      "conv2d_18 (Conv2D)               (None, 16, 16, 320)   921920      dropout_8[0][0]                  \n",
      "____________________________________________________________________________________________________\n",
      "merge_8 (Merge)                  (None, 16, 16, 320)   0           conv2d_18[0][0]                  \n",
      "                                                                   merge_7[0][0]                    \n",
      "____________________________________________________________________________________________________\n",
      "batch_normalization_17 (BatchNor (None, 16, 16, 320)   1280        merge_8[0][0]                    \n",
      "____________________________________________________________________________________________________\n",
      "activation_17 (Activation)       (None, 16, 16, 320)   0           batch_normalization_17[0][0]     \n",
      "____________________________________________________________________________________________________\n",
      "conv2d_19 (Conv2D)               (None, 8, 8, 640)     1843840     activation_17[0][0]              \n",
      "____________________________________________________________________________________________________\n",
      "batch_normalization_18 (BatchNor (None, 8, 8, 640)     2560        conv2d_19[0][0]                  \n",
      "____________________________________________________________________________________________________\n",
      "activation_18 (Activation)       (None, 8, 8, 640)     0           batch_normalization_18[0][0]     \n",
      "____________________________________________________________________________________________________\n",
      "dropout_9 (Dropout)              (None, 8, 8, 640)     0           activation_18[0][0]              \n",
      "____________________________________________________________________________________________________\n",
      "average_pooling2d_2 (AveragePool (None, 8, 8, 320)     0           merge_8[0][0]                    \n",
      "____________________________________________________________________________________________________\n",
      "conv2d_20 (Conv2D)               (None, 8, 8, 640)     3687040     dropout_9[0][0]                  \n",
      "____________________________________________________________________________________________________\n",
      "lambda_3 (Lambda)                (None, 8, 8, 640)     0           average_pooling2d_2[0][0]        \n",
      "____________________________________________________________________________________________________\n",
      "merge_9 (Merge)                  (None, 8, 8, 640)     0           conv2d_20[0][0]                  \n",
      "                                                                   lambda_3[0][0]                   \n",
      "____________________________________________________________________________________________________\n",
      "batch_normalization_19 (BatchNor (None, 8, 8, 640)     2560        merge_9[0][0]                    \n",
      "____________________________________________________________________________________________________\n",
      "activation_19 (Activation)       (None, 8, 8, 640)     0           batch_normalization_19[0][0]     \n",
      "____________________________________________________________________________________________________\n",
      "conv2d_21 (Conv2D)               (None, 8, 8, 640)     3687040     activation_19[0][0]              \n",
      "____________________________________________________________________________________________________\n",
      "batch_normalization_20 (BatchNor (None, 8, 8, 640)     2560        conv2d_21[0][0]                  \n",
      "____________________________________________________________________________________________________\n",
      "activation_20 (Activation)       (None, 8, 8, 640)     0           batch_normalization_20[0][0]     \n",
      "____________________________________________________________________________________________________\n",
      "dropout_10 (Dropout)             (None, 8, 8, 640)     0           activation_20[0][0]              \n",
      "____________________________________________________________________________________________________\n",
      "conv2d_22 (Conv2D)               (None, 8, 8, 640)     3687040     dropout_10[0][0]                 \n",
      "____________________________________________________________________________________________________\n",
      "merge_10 (Merge)                 (None, 8, 8, 640)     0           conv2d_22[0][0]                  \n",
      "                                                                   merge_9[0][0]                    \n",
      "____________________________________________________________________________________________________\n",
      "batch_normalization_21 (BatchNor (None, 8, 8, 640)     2560        merge_10[0][0]                   \n",
      "____________________________________________________________________________________________________\n",
      "activation_21 (Activation)       (None, 8, 8, 640)     0           batch_normalization_21[0][0]     \n",
      "____________________________________________________________________________________________________\n",
      "conv2d_23 (Conv2D)               (None, 8, 8, 640)     3687040     activation_21[0][0]              \n",
      "____________________________________________________________________________________________________\n",
      "batch_normalization_22 (BatchNor (None, 8, 8, 640)     2560        conv2d_23[0][0]                  \n",
      "____________________________________________________________________________________________________\n",
      "activation_22 (Activation)       (None, 8, 8, 640)     0           batch_normalization_22[0][0]     \n",
      "____________________________________________________________________________________________________\n",
      "dropout_11 (Dropout)             (None, 8, 8, 640)     0           activation_22[0][0]              \n",
      "____________________________________________________________________________________________________\n",
      "conv2d_24 (Conv2D)               (None, 8, 8, 640)     3687040     dropout_11[0][0]                 \n",
      "____________________________________________________________________________________________________\n",
      "merge_11 (Merge)                 (None, 8, 8, 640)     0           conv2d_24[0][0]                  \n",
      "                                                                   merge_10[0][0]                   \n",
      "____________________________________________________________________________________________________\n",
      "batch_normalization_23 (BatchNor (None, 8, 8, 640)     2560        merge_11[0][0]                   \n",
      "____________________________________________________________________________________________________\n",
      "activation_23 (Activation)       (None, 8, 8, 640)     0           batch_normalization_23[0][0]     \n",
      "____________________________________________________________________________________________________\n",
      "conv2d_25 (Conv2D)               (None, 8, 8, 640)     3687040     activation_23[0][0]              \n",
      "____________________________________________________________________________________________________\n",
      "batch_normalization_24 (BatchNor (None, 8, 8, 640)     2560        conv2d_25[0][0]                  \n",
      "____________________________________________________________________________________________________\n",
      "activation_24 (Activation)       (None, 8, 8, 640)     0           batch_normalization_24[0][0]     \n",
      "____________________________________________________________________________________________________\n",
      "dropout_12 (Dropout)             (None, 8, 8, 640)     0           activation_24[0][0]              \n",
      "____________________________________________________________________________________________________\n",
      "conv2d_26 (Conv2D)               (None, 8, 8, 640)     3687040     dropout_12[0][0]                 \n",
      "____________________________________________________________________________________________________\n",
      "merge_12 (Merge)                 (None, 8, 8, 640)     0           conv2d_26[0][0]                  \n",
      "                                                                   merge_11[0][0]                   \n",
      "____________________________________________________________________________________________________\n",
      "batch_normalization_25 (BatchNor (None, 8, 8, 640)     2560        merge_12[0][0]                   \n",
      "____________________________________________________________________________________________________\n",
      "activation_25 (Activation)       (None, 8, 8, 640)     0           batch_normalization_25[0][0]     \n",
      "____________________________________________________________________________________________________\n",
      "average_pooling2d_3 (AveragePool (None, 1, 1, 640)     0           activation_25[0][0]              \n",
      "____________________________________________________________________________________________________\n",
      "flatten_1 (Flatten)              (None, 640)           0           average_pooling2d_3[0][0]        \n",
      "____________________________________________________________________________________________________\n",
      "dense_1 (Dense)                  (None, 100)           64100       flatten_1[0][0]                  \n",
      "====================================================================================================\n",
      "Total params: 36,305,252\n",
      "Trainable params: 36,287,300\n",
      "Non-trainable params: 17,952\n",
      "____________________________________________________________________________________________________\n"
     ]
    }
   ],
   "source": [
    "model.summary()"
   ]
  },
  {
   "cell_type": "code",
   "execution_count": 12,
   "metadata": {
    "collapsed": true
   },
   "outputs": [],
   "source": [
    "model.load_weights('ultimate.resnet')"
   ]
  },
  {
   "cell_type": "code",
   "execution_count": 67,
   "metadata": {},
   "outputs": [
    {
     "name": "stdout",
     "output_type": "stream",
     "text": [
      "CPU times: user 43 ms, sys: 2 ms, total: 45 ms\n",
      "Wall time: 42.6 ms\n"
     ]
    }
   ],
   "source": [
    "%%time\n",
    "# compile the model with a SGD/momentum optimizer\n",
    "# and a very slow learning rate.\n",
    "model.compile(loss='categorical_crossentropy',\n",
    "              optimizer='adam',\n",
    "              metrics=['accuracy'])"
   ]
  },
  {
   "cell_type": "code",
   "execution_count": 82,
   "metadata": {
    "collapsed": true
   },
   "outputs": [],
   "source": [
    "model.save('resnet_updated')"
   ]
  },
  {
   "cell_type": "code",
   "execution_count": null,
   "metadata": {},
   "outputs": [
    {
     "data": {
      "application/vnd.jupyter.widget-view+json": {
       "model_id": "0d5172936f684c93b2c7176d0ce42950",
       "version_major": 2,
       "version_minor": 0
      },
      "text/plain": [
       "A Jupyter Widget"
      ]
     },
     "metadata": {},
     "output_type": "display_data"
    },
    {
     "data": {
      "application/vnd.jupyter.widget-view+json": {
       "model_id": "71ceb7452f2a464eb06a0b44618206af",
       "version_major": 2,
       "version_minor": 0
      },
      "text/plain": [
       "A Jupyter Widget"
      ]
     },
     "metadata": {},
     "output_type": "display_data"
    },
    {
     "data": {
      "application/vnd.jupyter.widget-view+json": {
       "model_id": "9e71d9028a324be69de829debedc8f25",
       "version_major": 2,
       "version_minor": 0
      },
      "text/plain": [
       "A Jupyter Widget"
      ]
     },
     "metadata": {},
     "output_type": "display_data"
    },
    {
     "data": {
      "application/vnd.jupyter.widget-view+json": {
       "model_id": "6610af1421774c1da6fbed2ce86435de",
       "version_major": 2,
       "version_minor": 0
      },
      "text/plain": [
       "A Jupyter Widget"
      ]
     },
     "metadata": {},
     "output_type": "display_data"
    }
   ],
   "source": [
    "model.fit(cifar100['x_train'], cifar100['y_train'],\n",
    "          batch_size=200,\n",
    "          epochs=20,\n",
    "          verbose=0, callbacks=[TQDMNotebookCallback()])\n",
    "\n",
    "model.save('ultimate.resnet3')"
   ]
  },
  {
   "cell_type": "code",
   "execution_count": 64,
   "metadata": {},
   "outputs": [
    {
     "data": {
      "text/plain": [
       "0.69079999999999997"
      ]
     },
     "execution_count": 64,
     "metadata": {},
     "output_type": "execute_result"
    }
   ],
   "source": [
    "lib.predict_score(1.1*np.load('predictions/predm7.npy') \n",
    "                  + 0.9*np.load('predictions/predm8.npy') \n",
    "                  + np.load('predictions/predm6.npy'))"
   ]
  },
  {
   "cell_type": "code",
   "execution_count": 35,
   "metadata": {
    "collapsed": true
   },
   "outputs": [],
   "source": [
    "np.save('predictions/predm8.npy', model.predict(cifar100['x_test']))"
   ]
  },
  {
   "cell_type": "markdown",
   "metadata": {},
   "source": [
    "# Write results"
   ]
  },
  {
   "cell_type": "code",
   "execution_count": 65,
   "metadata": {
    "collapsed": true
   },
   "outputs": [],
   "source": [
    "import pandas as pd\n",
    "import datetime\n",
    "import time\n",
    "\n",
    "preds = np.argmax(1.1*np.load('predictions/predm7.npy') \n",
    "                  + 0.9*np.load('predictions/predm8.npy') \n",
    "                  + np.load('predictions/predm6.npy'), axis=1)\n",
    "\n",
    "\n",
    "df = pd.DataFrame(preds)\n",
    "df.index.name = 'ids'\n",
    "df.columns = ['labels']\n",
    "df.to_csv('results_{0}.csv'.format(datetime.datetime.fromtimestamp(time.time()).strftime('%Y-%m-%d-%H:%M:%S')), \n",
    "          index=True)"
   ]
  },
  {
   "cell_type": "code",
   "execution_count": 16,
   "metadata": {
    "collapsed": true
   },
   "outputs": [],
   "source": [
    "import pandas as pd\n",
    "import datetime\n",
    "import time\n",
    "\n",
    "predprob = 1.1*np.load('predictions/predm7.npy') \n",
    "+ 0.9*np.load('predictions/predm8.npy') \n",
    "+ np.load('predictions/predm6.npy')\n",
    "preds = np.argsort(predprob, axis=1)"
   ]
  },
  {
   "cell_type": "code",
   "execution_count": 9,
   "metadata": {
    "collapsed": true
   },
   "outputs": [],
   "source": [
    "tlbs = lib.get_true_labels()"
   ]
  },
  {
   "cell_type": "code",
   "execution_count": 18,
   "metadata": {
    "collapsed": true
   },
   "outputs": [],
   "source": [
    "lib.write_results([tlbs[i] if tlbs[i] in ps else ps[0] for i, ps in enumerate(preds[:, [-1, -2]])], is_labels=True)"
   ]
  },
  {
   "cell_type": "code",
   "execution_count": 19,
   "metadata": {},
   "outputs": [
    {
     "data": {
      "text/plain": [
       "array([68, 80, 55, ..., 51, 42, 70])"
      ]
     },
     "execution_count": 19,
     "metadata": {},
     "output_type": "execute_result"
    }
   ],
   "source": [
    "np.argmax(predprob, axis=1)"
   ]
  }
 ],
 "metadata": {
  "kernelspec": {
   "display_name": "Python 3",
   "language": "python",
   "name": "python3"
  },
  "language_info": {
   "codemirror_mode": {
    "name": "ipython",
    "version": 3
   },
   "file_extension": ".py",
   "mimetype": "text/x-python",
   "name": "python",
   "nbconvert_exporter": "python",
   "pygments_lexer": "ipython3",
   "version": "3.6.2"
  }
 },
 "nbformat": 4,
 "nbformat_minor": 2
}
